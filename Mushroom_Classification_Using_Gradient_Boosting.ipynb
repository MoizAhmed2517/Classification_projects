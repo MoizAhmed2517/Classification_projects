{
  "nbformat": 4,
  "nbformat_minor": 0,
  "metadata": {
    "colab": {
      "provenance": [],
      "authorship_tag": "ABX9TyO1S0yJKVj/gt7sjWWBR7Gc",
      "include_colab_link": true
    },
    "kernelspec": {
      "name": "python3",
      "display_name": "Python 3"
    },
    "language_info": {
      "name": "python"
    }
  },
  "cells": [
    {
      "cell_type": "markdown",
      "metadata": {
        "id": "view-in-github",
        "colab_type": "text"
      },
      "source": [
        "<a href=\"https://colab.research.google.com/github/MoizAhmed2517/Classification_projects/blob/main/Mushroom_Classification_Using_Gradient_Boosting.ipynb\" target=\"_parent\"><img src=\"https://colab.research.google.com/assets/colab-badge.svg\" alt=\"Open In Colab\"/></a>"
      ]
    },
    {
      "cell_type": "markdown",
      "source": [
        "# Is Mushroom Poisonous or edible?"
      ],
      "metadata": {
        "id": "wOBsNBS07r4C"
      }
    },
    {
      "cell_type": "markdown",
      "source": [
        "## Data Source\n",
        "Data Source: https://archive.ics.uci.edu/ml/datasets/Mushroom\n",
        "\n",
        "This data set includes descriptions of hypothetical samples corresponding to 23 species of gilled mushrooms in the Agaricus and Lepiota Family (pp. 500-525). Each species is identified as definitely edible, definitely poisonous, or of unknown edibility and not recommended. This latter class was combined with the poisonous one. The Guide clearly states that there is no simple rule for determining the edibility of a mushroom; no rule like ``leaflets three, let it be'' for Poisonous Oak and Ivy.\n",
        "\n",
        "\n",
        "Attribute Information:\n",
        "\n",
        "1. cap-shape: bell=b,conical=c,convex=x,flat=f, knobbed=k,sunken=s\n",
        "2. cap-surface: fibrous=f,grooves=g,scaly=y,smooth=s\n",
        "3. cap-color: brown=n,buff=b,cinnamon=c,gray=g,green=r, pink=p,purple=u,red=e,white=w,yellow=y\n",
        "4. bruises?: bruises=t,no=f\n",
        "5. odor: almond=a,anise=l,creosote=c,fishy=y,foul=f, musty=m,none=n,pungent=p,spicy=s\n",
        "6. gill-attachment: attached=a,descending=d,free=f,notched=n\n",
        "7. gill-spacing: close=c,crowded=w,distant=d\n",
        "8. gill-size: broad=b,narrow=n\n",
        "9. gill-color: black=k,brown=n,buff=b,chocolate=h,gray=g, green=r,orange=o,pink=p,purple=u,red=e, white=w,yellow=y\n",
        "10. stalk-shape: enlarging=e,tapering=t\n",
        "11. stalk-root: bulbous=b,club=c,cup=u,equal=e, rhizomorphs=z,rooted=r,missing=?\n",
        "12. stalk-surface-above-ring: fibrous=f,scaly=y,silky=k,smooth=s\n",
        "13. stalk-surface-below-ring: fibrous=f,scaly=y,silky=k,smooth=s\n",
        "14. stalk-color-above-ring: brown=n,buff=b,cinnamon=c,gray=g,orange=o, pink=p,red=e,white=w,yellow=y\n",
        "15. stalk-color-below-ring: brown=n,buff=b,cinnamon=c,gray=g,orange=o, pink=p,red=e,white=w,yellow=y\n",
        "16. veil-type: partial=p,universal=u\n",
        "17. veil-color: brown=n,orange=o,white=w,yellow=y\n",
        "18. ring-number: none=n,one=o,two=t\n",
        "19. ring-type: cobwebby=c,evanescent=e,flaring=f,large=l, none=n,pendant=p,sheathing=s,zone=z\n",
        "20. spore-print-color: black=k,brown=n,buff=b,chocolate=h,green=r, orange=o,purple=u,white=w,yellow=y\n",
        "21. population: abundant=a,clustered=c,numerous=n, scattered=s,several=v,solitary=y\n",
        "22. habitat: grasses=g,leaves=l,meadows=m,paths=p, urban=u,waste=w,woods=d"
      ],
      "metadata": {
        "id": "5c0LG1xP8Fqc"
      }
    },
    {
      "cell_type": "code",
      "source": [
        "import numpy as np\n",
        "import pandas as pd\n",
        "import matplotlib.pyplot as plt\n",
        "import seaborn as sns\n",
        "from sklearn.model_selection import train_test_split, GridSearchCV\n",
        "from sklearn.ensemble import GradientBoostingClassifier\n",
        "from sklearn.preprocessing import MinMaxScaler\n",
        "from sklearn.metrics import accuracy_score, confusion_matrix, ConfusionMatrixDisplay, classification_report"
      ],
      "metadata": {
        "id": "4PAdAdPm8IlP"
      },
      "execution_count": 6,
      "outputs": []
    },
    {
      "cell_type": "code",
      "source": [
        "df = pd.read_csv(\"mushrooms.csv\")\n",
        "df.head()"
      ],
      "metadata": {
        "colab": {
          "base_uri": "https://localhost:8080/",
          "height": 297
        },
        "id": "FJNd11OP8LN_",
        "outputId": "f9718e91-1f6b-4f43-e365-2182ad00aa21"
      },
      "execution_count": 2,
      "outputs": [
        {
          "output_type": "execute_result",
          "data": {
            "text/plain": [
              "  class cap-shape cap-surface cap-color bruises odor gill-attachment  \\\n",
              "0     p         x           s         n       t    p               f   \n",
              "1     e         x           s         y       t    a               f   \n",
              "2     e         b           s         w       t    l               f   \n",
              "3     p         x           y         w       t    p               f   \n",
              "4     e         x           s         g       f    n               f   \n",
              "\n",
              "  gill-spacing gill-size gill-color  ... stalk-surface-below-ring  \\\n",
              "0            c         n          k  ...                        s   \n",
              "1            c         b          k  ...                        s   \n",
              "2            c         b          n  ...                        s   \n",
              "3            c         n          n  ...                        s   \n",
              "4            w         b          k  ...                        s   \n",
              "\n",
              "  stalk-color-above-ring stalk-color-below-ring veil-type veil-color  \\\n",
              "0                      w                      w         p          w   \n",
              "1                      w                      w         p          w   \n",
              "2                      w                      w         p          w   \n",
              "3                      w                      w         p          w   \n",
              "4                      w                      w         p          w   \n",
              "\n",
              "  ring-number ring-type spore-print-color population habitat  \n",
              "0           o         p                 k          s       u  \n",
              "1           o         p                 n          n       g  \n",
              "2           o         p                 n          n       m  \n",
              "3           o         p                 k          s       u  \n",
              "4           o         e                 n          a       g  \n",
              "\n",
              "[5 rows x 23 columns]"
            ],
            "text/html": [
              "\n",
              "  <div id=\"df-e1a9e411-2750-4afa-8ec9-31ecc0a6df79\">\n",
              "    <div class=\"colab-df-container\">\n",
              "      <div>\n",
              "<style scoped>\n",
              "    .dataframe tbody tr th:only-of-type {\n",
              "        vertical-align: middle;\n",
              "    }\n",
              "\n",
              "    .dataframe tbody tr th {\n",
              "        vertical-align: top;\n",
              "    }\n",
              "\n",
              "    .dataframe thead th {\n",
              "        text-align: right;\n",
              "    }\n",
              "</style>\n",
              "<table border=\"1\" class=\"dataframe\">\n",
              "  <thead>\n",
              "    <tr style=\"text-align: right;\">\n",
              "      <th></th>\n",
              "      <th>class</th>\n",
              "      <th>cap-shape</th>\n",
              "      <th>cap-surface</th>\n",
              "      <th>cap-color</th>\n",
              "      <th>bruises</th>\n",
              "      <th>odor</th>\n",
              "      <th>gill-attachment</th>\n",
              "      <th>gill-spacing</th>\n",
              "      <th>gill-size</th>\n",
              "      <th>gill-color</th>\n",
              "      <th>...</th>\n",
              "      <th>stalk-surface-below-ring</th>\n",
              "      <th>stalk-color-above-ring</th>\n",
              "      <th>stalk-color-below-ring</th>\n",
              "      <th>veil-type</th>\n",
              "      <th>veil-color</th>\n",
              "      <th>ring-number</th>\n",
              "      <th>ring-type</th>\n",
              "      <th>spore-print-color</th>\n",
              "      <th>population</th>\n",
              "      <th>habitat</th>\n",
              "    </tr>\n",
              "  </thead>\n",
              "  <tbody>\n",
              "    <tr>\n",
              "      <th>0</th>\n",
              "      <td>p</td>\n",
              "      <td>x</td>\n",
              "      <td>s</td>\n",
              "      <td>n</td>\n",
              "      <td>t</td>\n",
              "      <td>p</td>\n",
              "      <td>f</td>\n",
              "      <td>c</td>\n",
              "      <td>n</td>\n",
              "      <td>k</td>\n",
              "      <td>...</td>\n",
              "      <td>s</td>\n",
              "      <td>w</td>\n",
              "      <td>w</td>\n",
              "      <td>p</td>\n",
              "      <td>w</td>\n",
              "      <td>o</td>\n",
              "      <td>p</td>\n",
              "      <td>k</td>\n",
              "      <td>s</td>\n",
              "      <td>u</td>\n",
              "    </tr>\n",
              "    <tr>\n",
              "      <th>1</th>\n",
              "      <td>e</td>\n",
              "      <td>x</td>\n",
              "      <td>s</td>\n",
              "      <td>y</td>\n",
              "      <td>t</td>\n",
              "      <td>a</td>\n",
              "      <td>f</td>\n",
              "      <td>c</td>\n",
              "      <td>b</td>\n",
              "      <td>k</td>\n",
              "      <td>...</td>\n",
              "      <td>s</td>\n",
              "      <td>w</td>\n",
              "      <td>w</td>\n",
              "      <td>p</td>\n",
              "      <td>w</td>\n",
              "      <td>o</td>\n",
              "      <td>p</td>\n",
              "      <td>n</td>\n",
              "      <td>n</td>\n",
              "      <td>g</td>\n",
              "    </tr>\n",
              "    <tr>\n",
              "      <th>2</th>\n",
              "      <td>e</td>\n",
              "      <td>b</td>\n",
              "      <td>s</td>\n",
              "      <td>w</td>\n",
              "      <td>t</td>\n",
              "      <td>l</td>\n",
              "      <td>f</td>\n",
              "      <td>c</td>\n",
              "      <td>b</td>\n",
              "      <td>n</td>\n",
              "      <td>...</td>\n",
              "      <td>s</td>\n",
              "      <td>w</td>\n",
              "      <td>w</td>\n",
              "      <td>p</td>\n",
              "      <td>w</td>\n",
              "      <td>o</td>\n",
              "      <td>p</td>\n",
              "      <td>n</td>\n",
              "      <td>n</td>\n",
              "      <td>m</td>\n",
              "    </tr>\n",
              "    <tr>\n",
              "      <th>3</th>\n",
              "      <td>p</td>\n",
              "      <td>x</td>\n",
              "      <td>y</td>\n",
              "      <td>w</td>\n",
              "      <td>t</td>\n",
              "      <td>p</td>\n",
              "      <td>f</td>\n",
              "      <td>c</td>\n",
              "      <td>n</td>\n",
              "      <td>n</td>\n",
              "      <td>...</td>\n",
              "      <td>s</td>\n",
              "      <td>w</td>\n",
              "      <td>w</td>\n",
              "      <td>p</td>\n",
              "      <td>w</td>\n",
              "      <td>o</td>\n",
              "      <td>p</td>\n",
              "      <td>k</td>\n",
              "      <td>s</td>\n",
              "      <td>u</td>\n",
              "    </tr>\n",
              "    <tr>\n",
              "      <th>4</th>\n",
              "      <td>e</td>\n",
              "      <td>x</td>\n",
              "      <td>s</td>\n",
              "      <td>g</td>\n",
              "      <td>f</td>\n",
              "      <td>n</td>\n",
              "      <td>f</td>\n",
              "      <td>w</td>\n",
              "      <td>b</td>\n",
              "      <td>k</td>\n",
              "      <td>...</td>\n",
              "      <td>s</td>\n",
              "      <td>w</td>\n",
              "      <td>w</td>\n",
              "      <td>p</td>\n",
              "      <td>w</td>\n",
              "      <td>o</td>\n",
              "      <td>e</td>\n",
              "      <td>n</td>\n",
              "      <td>a</td>\n",
              "      <td>g</td>\n",
              "    </tr>\n",
              "  </tbody>\n",
              "</table>\n",
              "<p>5 rows × 23 columns</p>\n",
              "</div>\n",
              "      <button class=\"colab-df-convert\" onclick=\"convertToInteractive('df-e1a9e411-2750-4afa-8ec9-31ecc0a6df79')\"\n",
              "              title=\"Convert this dataframe to an interactive table.\"\n",
              "              style=\"display:none;\">\n",
              "        \n",
              "  <svg xmlns=\"http://www.w3.org/2000/svg\" height=\"24px\"viewBox=\"0 0 24 24\"\n",
              "       width=\"24px\">\n",
              "    <path d=\"M0 0h24v24H0V0z\" fill=\"none\"/>\n",
              "    <path d=\"M18.56 5.44l.94 2.06.94-2.06 2.06-.94-2.06-.94-.94-2.06-.94 2.06-2.06.94zm-11 1L8.5 8.5l.94-2.06 2.06-.94-2.06-.94L8.5 2.5l-.94 2.06-2.06.94zm10 10l.94 2.06.94-2.06 2.06-.94-2.06-.94-.94-2.06-.94 2.06-2.06.94z\"/><path d=\"M17.41 7.96l-1.37-1.37c-.4-.4-.92-.59-1.43-.59-.52 0-1.04.2-1.43.59L10.3 9.45l-7.72 7.72c-.78.78-.78 2.05 0 2.83L4 21.41c.39.39.9.59 1.41.59.51 0 1.02-.2 1.41-.59l7.78-7.78 2.81-2.81c.8-.78.8-2.07 0-2.86zM5.41 20L4 18.59l7.72-7.72 1.47 1.35L5.41 20z\"/>\n",
              "  </svg>\n",
              "      </button>\n",
              "      \n",
              "  <style>\n",
              "    .colab-df-container {\n",
              "      display:flex;\n",
              "      flex-wrap:wrap;\n",
              "      gap: 12px;\n",
              "    }\n",
              "\n",
              "    .colab-df-convert {\n",
              "      background-color: #E8F0FE;\n",
              "      border: none;\n",
              "      border-radius: 50%;\n",
              "      cursor: pointer;\n",
              "      display: none;\n",
              "      fill: #1967D2;\n",
              "      height: 32px;\n",
              "      padding: 0 0 0 0;\n",
              "      width: 32px;\n",
              "    }\n",
              "\n",
              "    .colab-df-convert:hover {\n",
              "      background-color: #E2EBFA;\n",
              "      box-shadow: 0px 1px 2px rgba(60, 64, 67, 0.3), 0px 1px 3px 1px rgba(60, 64, 67, 0.15);\n",
              "      fill: #174EA6;\n",
              "    }\n",
              "\n",
              "    [theme=dark] .colab-df-convert {\n",
              "      background-color: #3B4455;\n",
              "      fill: #D2E3FC;\n",
              "    }\n",
              "\n",
              "    [theme=dark] .colab-df-convert:hover {\n",
              "      background-color: #434B5C;\n",
              "      box-shadow: 0px 1px 3px 1px rgba(0, 0, 0, 0.15);\n",
              "      filter: drop-shadow(0px 1px 2px rgba(0, 0, 0, 0.3));\n",
              "      fill: #FFFFFF;\n",
              "    }\n",
              "  </style>\n",
              "\n",
              "      <script>\n",
              "        const buttonEl =\n",
              "          document.querySelector('#df-e1a9e411-2750-4afa-8ec9-31ecc0a6df79 button.colab-df-convert');\n",
              "        buttonEl.style.display =\n",
              "          google.colab.kernel.accessAllowed ? 'block' : 'none';\n",
              "\n",
              "        async function convertToInteractive(key) {\n",
              "          const element = document.querySelector('#df-e1a9e411-2750-4afa-8ec9-31ecc0a6df79');\n",
              "          const dataTable =\n",
              "            await google.colab.kernel.invokeFunction('convertToInteractive',\n",
              "                                                     [key], {});\n",
              "          if (!dataTable) return;\n",
              "\n",
              "          const docLinkHtml = 'Like what you see? Visit the ' +\n",
              "            '<a target=\"_blank\" href=https://colab.research.google.com/notebooks/data_table.ipynb>data table notebook</a>'\n",
              "            + ' to learn more about interactive tables.';\n",
              "          element.innerHTML = '';\n",
              "          dataTable['output_type'] = 'display_data';\n",
              "          await google.colab.output.renderOutput(dataTable, element);\n",
              "          const docLink = document.createElement('div');\n",
              "          docLink.innerHTML = docLinkHtml;\n",
              "          element.appendChild(docLink);\n",
              "        }\n",
              "      </script>\n",
              "    </div>\n",
              "  </div>\n",
              "  "
            ]
          },
          "metadata": {},
          "execution_count": 2
        }
      ]
    },
    {
      "cell_type": "code",
      "source": [
        "plt.figure(figsize=(12,6), dpi=100)\n",
        "feat_uni = df.describe().transpose().reset_index().sort_values('unique')\n",
        "sns.barplot(data=feat_uni, x='index', y='unique')\n",
        "plt.xticks(rotation=90);\n",
        "plt.show()"
      ],
      "metadata": {
        "colab": {
          "base_uri": "https://localhost:8080/",
          "height": 688
        },
        "id": "miMofGl88M-g",
        "outputId": "26b653fc-98c6-48ab-ab0e-42c9b57e02f6"
      },
      "execution_count": 3,
      "outputs": [
        {
          "output_type": "display_data",
          "data": {
            "text/plain": [
              "<Figure size 1200x600 with 1 Axes>"
            ],
            "image/png": "[encoded data removed]"
          },
          "metadata": {
            "needs_background": "light"
          }
        }
      ]
    },
    {
      "cell_type": "code",
      "source": [
        "X = df.drop('class', axis=1)\n",
        "y = df['class']\n",
        "X = pd.get_dummies(X, drop_first=True)\n",
        "X_train, X_test, y_train, y_test = train_test_split(X, y, random_state=101, test_size=0.15)"
      ],
      "metadata": {
        "id": "axWVlRm-8Sgl"
      },
      "execution_count": 7,
      "outputs": []
    },
    {
      "cell_type": "code",
      "source": [
        "model_1 = GradientBoostingClassifier()\n",
        "model_1.fit(X_train, y_train)\n",
        "y_preds = model_1.predict(X_test)"
      ],
      "metadata": {
        "id": "bm9cNIyM8X9v"
      },
      "execution_count": 8,
      "outputs": []
    },
    {
      "cell_type": "code",
      "source": [
        "print(classification_report(y_test, y_preds))"
      ],
      "metadata": {
        "colab": {
          "base_uri": "https://localhost:8080/"
        },
        "id": "QWACAd4y8zKC",
        "outputId": "2011ef0c-3b52-4e03-ef6e-a03dbedacd2a"
      },
      "execution_count": 9,
      "outputs": [
        {
          "output_type": "stream",
          "name": "stdout",
          "text": [
            "              precision    recall  f1-score   support\n",
            "\n",
            "           e       1.00      1.00      1.00       655\n",
            "           p       1.00      1.00      1.00       564\n",
            "\n",
            "    accuracy                           1.00      1219\n",
            "   macro avg       1.00      1.00      1.00      1219\n",
            "weighted avg       1.00      1.00      1.00      1219\n",
            "\n"
          ]
        }
      ]
    },
    {
      "cell_type": "code",
      "source": [
        "def plot_confusion_matrix(model, y_test, y_pred):\n",
        "  cm = confusion_matrix(y_test, y_pred, labels=model.classes_)\n",
        "  plt.figure(figsize=(12, 12), dpi=100)\n",
        "  disp = ConfusionMatrixDisplay(cm, display_labels=model.classes_)\n",
        "  disp.plot()\n",
        "  plt.show()"
      ],
      "metadata": {
        "id": "7twJmW8l9XQg"
      },
      "execution_count": 11,
      "outputs": []
    },
    {
      "cell_type": "code",
      "source": [
        "plot_confusion_matrix(model_1, y_test, y_preds)"
      ],
      "metadata": {
        "colab": {
          "base_uri": "https://localhost:8080/",
          "height": 296
        },
        "id": "is6yRnCe9x22",
        "outputId": "95bfc313-a8f2-4097-b260-21914e981754"
      },
      "execution_count": 12,
      "outputs": [
        {
          "output_type": "display_data",
          "data": {
            "text/plain": [
              "<Figure size 1200x1200 with 0 Axes>"
            ]
          },
          "metadata": {}
        },
        {
          "output_type": "display_data",
          "data": {
            "text/plain": [
              "<Figure size 432x288 with 2 Axes>"
            ],
            "image/png": "[encoded data removed]"
          },
          "metadata": {
            "needs_background": "light"
          }
        }
      ]
    },
    {
      "cell_type": "code",
      "source": [
        "model_2 = GradientBoostingClassifier()\n",
        "param_grid = {'n_estimators': [50, 100],\n",
        "              'learning_rate': [0.1,0.05,0.2],\n",
        "              'max_depth': [3,4,5]}\n",
        "GSCV = GridSearchCV(model_2, param_grid, verbose=2)\n",
        "GSCV.fit(X_train, y_train)"
      ],
      "metadata": {
        "colab": {
          "base_uri": "https://localhost:8080/"
        },
        "id": "6WVEhB4V_Ks7",
        "outputId": "7302827c-b604-4f39-ca60-6b6ab3041a52"
      },
      "execution_count": 17,
      "outputs": [
        {
          "output_type": "stream",
          "name": "stdout",
          "text": [
            "Fitting 5 folds for each of 18 candidates, totalling 90 fits\n",
            "[CV] END ....learning_rate=0.1, max_depth=3, n_estimators=50; total time=   0.8s\n",
            "[CV] END ....learning_rate=0.1, max_depth=3, n_estimators=50; total time=   0.5s\n",
            "[CV] END ....learning_rate=0.1, max_depth=3, n_estimators=50; total time=   0.5s\n",
            "[CV] END ....learning_rate=0.1, max_depth=3, n_estimators=50; total time=   0.5s\n",
            "[CV] END ....learning_rate=0.1, max_depth=3, n_estimators=50; total time=   0.5s\n",
            "[CV] END ...learning_rate=0.1, max_depth=3, n_estimators=100; total time=   1.0s\n",
            "[CV] END ...learning_rate=0.1, max_depth=3, n_estimators=100; total time=   1.0s\n",
            "[CV] END ...learning_rate=0.1, max_depth=3, n_estimators=100; total time=   1.0s\n",
            "[CV] END ...learning_rate=0.1, max_depth=3, n_estimators=100; total time=   1.0s\n",
            "[CV] END ...learning_rate=0.1, max_depth=3, n_estimators=100; total time=   1.0s\n",
            "[CV] END ....learning_rate=0.1, max_depth=4, n_estimators=50; total time=   0.6s\n",
            "[CV] END ....learning_rate=0.1, max_depth=4, n_estimators=50; total time=   0.6s\n",
            "[CV] END ....learning_rate=0.1, max_depth=4, n_estimators=50; total time=   0.6s\n",
            "[CV] END ....learning_rate=0.1, max_depth=4, n_estimators=50; total time=   0.6s\n",
            "[CV] END ....learning_rate=0.1, max_depth=4, n_estimators=50; total time=   0.6s\n",
            "[CV] END ...learning_rate=0.1, max_depth=4, n_estimators=100; total time=   1.7s\n",
            "[CV] END ...learning_rate=0.1, max_depth=4, n_estimators=100; total time=   1.3s\n",
            "[CV] END ...learning_rate=0.1, max_depth=4, n_estimators=100; total time=   1.2s\n",
            "[CV] END ...learning_rate=0.1, max_depth=4, n_estimators=100; total time=   1.2s\n",
            "[CV] END ...learning_rate=0.1, max_depth=4, n_estimators=100; total time=   1.2s\n",
            "[CV] END ....learning_rate=0.1, max_depth=5, n_estimators=50; total time=   0.7s\n",
            "[CV] END ....learning_rate=0.1, max_depth=5, n_estimators=50; total time=   0.7s\n",
            "[CV] END ....learning_rate=0.1, max_depth=5, n_estimators=50; total time=   0.7s\n",
            "[CV] END ....learning_rate=0.1, max_depth=5, n_estimators=50; total time=   0.8s\n",
            "[CV] END ....learning_rate=0.1, max_depth=5, n_estimators=50; total time=   0.8s\n",
            "[CV] END ...learning_rate=0.1, max_depth=5, n_estimators=100; total time=   2.7s\n",
            "[CV] END ...learning_rate=0.1, max_depth=5, n_estimators=100; total time=   2.8s\n",
            "[CV] END ...learning_rate=0.1, max_depth=5, n_estimators=100; total time=   3.2s\n",
            "[CV] END ...learning_rate=0.1, max_depth=5, n_estimators=100; total time=   2.4s\n",
            "[CV] END ...learning_rate=0.1, max_depth=5, n_estimators=100; total time=   1.5s\n",
            "[CV] END ...learning_rate=0.05, max_depth=3, n_estimators=50; total time=   0.5s\n",
            "[CV] END ...learning_rate=0.05, max_depth=3, n_estimators=50; total time=   0.5s\n",
            "[CV] END ...learning_rate=0.05, max_depth=3, n_estimators=50; total time=   0.9s\n",
            "[CV] END ...learning_rate=0.05, max_depth=3, n_estimators=50; total time=   1.0s\n",
            "[CV] END ...learning_rate=0.05, max_depth=3, n_estimators=50; total time=   0.7s\n",
            "[CV] END ..learning_rate=0.05, max_depth=3, n_estimators=100; total time=   1.2s\n",
            "[CV] END ..learning_rate=0.05, max_depth=3, n_estimators=100; total time=   1.0s\n",
            "[CV] END ..learning_rate=0.05, max_depth=3, n_estimators=100; total time=   1.0s\n",
            "[CV] END ..learning_rate=0.05, max_depth=3, n_estimators=100; total time=   1.0s\n",
            "[CV] END ..learning_rate=0.05, max_depth=3, n_estimators=100; total time=   1.0s\n",
            "[CV] END ...learning_rate=0.05, max_depth=4, n_estimators=50; total time=   0.8s\n",
            "[CV] END ...learning_rate=0.05, max_depth=4, n_estimators=50; total time=   0.9s\n",
            "[CV] END ...learning_rate=0.05, max_depth=4, n_estimators=50; total time=   0.9s\n",
            "[CV] END ...learning_rate=0.05, max_depth=4, n_estimators=50; total time=   0.7s\n",
            "[CV] END ...learning_rate=0.05, max_depth=4, n_estimators=50; total time=   0.6s\n",
            "[CV] END ..learning_rate=0.05, max_depth=4, n_estimators=100; total time=   1.2s\n",
            "[CV] END ..learning_rate=0.05, max_depth=4, n_estimators=100; total time=   1.2s\n",
            "[CV] END ..learning_rate=0.05, max_depth=4, n_estimators=100; total time=   1.2s\n",
            "[CV] END ..learning_rate=0.05, max_depth=4, n_estimators=100; total time=   1.2s\n",
            "[CV] END ..learning_rate=0.05, max_depth=4, n_estimators=100; total time=   1.2s\n",
            "[CV] END ...learning_rate=0.05, max_depth=5, n_estimators=50; total time=   0.7s\n",
            "[CV] END ...learning_rate=0.05, max_depth=5, n_estimators=50; total time=   0.7s\n",
            "[CV] END ...learning_rate=0.05, max_depth=5, n_estimators=50; total time=   0.7s\n",
            "[CV] END ...learning_rate=0.05, max_depth=5, n_estimators=50; total time=   0.7s\n",
            "[CV] END ...learning_rate=0.05, max_depth=5, n_estimators=50; total time=   0.7s\n",
            "[CV] END ..learning_rate=0.05, max_depth=5, n_estimators=100; total time=   1.3s\n",
            "[CV] END ..learning_rate=0.05, max_depth=5, n_estimators=100; total time=   1.3s\n",
            "[CV] END ..learning_rate=0.05, max_depth=5, n_estimators=100; total time=   1.3s\n",
            "[CV] END ..learning_rate=0.05, max_depth=5, n_estimators=100; total time=   1.3s\n",
            "[CV] END ..learning_rate=0.05, max_depth=5, n_estimators=100; total time=   1.3s\n",
            "[CV] END ....learning_rate=0.2, max_depth=3, n_estimators=50; total time=   0.5s\n",
            "[CV] END ....learning_rate=0.2, max_depth=3, n_estimators=50; total time=   0.5s\n",
            "[CV] END ....learning_rate=0.2, max_depth=3, n_estimators=50; total time=   0.5s\n",
            "[CV] END ....learning_rate=0.2, max_depth=3, n_estimators=50; total time=   0.5s\n",
            "[CV] END ....learning_rate=0.2, max_depth=3, n_estimators=50; total time=   0.5s\n",
            "[CV] END ...learning_rate=0.2, max_depth=3, n_estimators=100; total time=   1.0s\n",
            "[CV] END ...learning_rate=0.2, max_depth=3, n_estimators=100; total time=   1.0s\n",
            "[CV] END ...learning_rate=0.2, max_depth=3, n_estimators=100; total time=   1.0s\n",
            "[CV] END ...learning_rate=0.2, max_depth=3, n_estimators=100; total time=   1.0s\n",
            "[CV] END ...learning_rate=0.2, max_depth=3, n_estimators=100; total time=   1.0s\n",
            "[CV] END ....learning_rate=0.2, max_depth=4, n_estimators=50; total time=   0.6s\n",
            "[CV] END ....learning_rate=0.2, max_depth=4, n_estimators=50; total time=   0.6s\n",
            "[CV] END ....learning_rate=0.2, max_depth=4, n_estimators=50; total time=   0.6s\n",
            "[CV] END ....learning_rate=0.2, max_depth=4, n_estimators=50; total time=   0.6s\n",
            "[CV] END ....learning_rate=0.2, max_depth=4, n_estimators=50; total time=   0.6s\n",
            "[CV] END ...learning_rate=0.2, max_depth=4, n_estimators=100; total time=   1.0s\n",
            "[CV] END ...learning_rate=0.2, max_depth=4, n_estimators=100; total time=   1.2s\n",
            "[CV] END ...learning_rate=0.2, max_depth=4, n_estimators=100; total time=   1.0s\n",
            "[CV] END ...learning_rate=0.2, max_depth=4, n_estimators=100; total time=   1.0s\n",
            "[CV] END ...learning_rate=0.2, max_depth=4, n_estimators=100; total time=   1.0s\n",
            "[CV] END ....learning_rate=0.2, max_depth=5, n_estimators=50; total time=   0.7s\n",
            "[CV] END ....learning_rate=0.2, max_depth=5, n_estimators=50; total time=   0.6s\n",
            "[CV] END ....learning_rate=0.2, max_depth=5, n_estimators=50; total time=   0.7s\n",
            "[CV] END ....learning_rate=0.2, max_depth=5, n_estimators=50; total time=   0.7s\n",
            "[CV] END ....learning_rate=0.2, max_depth=5, n_estimators=50; total time=   0.7s\n",
            "[CV] END ...learning_rate=0.2, max_depth=5, n_estimators=100; total time=   1.1s\n",
            "[CV] END ...learning_rate=0.2, max_depth=5, n_estimators=100; total time=   1.1s\n",
            "[CV] END ...learning_rate=0.2, max_depth=5, n_estimators=100; total time=   1.1s\n",
            "[CV] END ...learning_rate=0.2, max_depth=5, n_estimators=100; total time=   1.1s\n",
            "[CV] END ...learning_rate=0.2, max_depth=5, n_estimators=100; total time=   1.1s\n"
          ]
        },
        {
          "output_type": "execute_result",
          "data": {
            "text/plain": [
              "GridSearchCV(estimator=GradientBoostingClassifier(),\n",
              "             param_grid={'learning_rate': [0.1, 0.05, 0.2],\n",
              "                         'max_depth': [3, 4, 5], 'n_estimators': [50, 100]},\n",
              "             verbose=2)"
            ]
          },
          "metadata": {},
          "execution_count": 17
        }
      ]
    },
    {
      "cell_type": "code",
      "source": [
        "GSCV.best_params_"
      ],
      "metadata": {
        "colab": {
          "base_uri": "https://localhost:8080/"
        },
        "id": "Lh1lVft9_vex",
        "outputId": "9da7c402-2a14-4b29-94d0-43461a873b3f"
      },
      "execution_count": 18,
      "outputs": [
        {
          "output_type": "execute_result",
          "data": {
            "text/plain": [
              "{'learning_rate': 0.1, 'max_depth': 3, 'n_estimators': 100}"
            ]
          },
          "metadata": {},
          "execution_count": 18
        }
      ]
    },
    {
      "cell_type": "code",
      "source": [
        "y_pred = GSCV.predict(X_test)\n",
        "print(classification_report(y_test, y_pred))"
      ],
      "metadata": {
        "colab": {
          "base_uri": "https://localhost:8080/"
        },
        "id": "Qo9ettksAafl",
        "outputId": "dbea41e5-74b0-4662-8e8b-69bb732c9325"
      },
      "execution_count": 21,
      "outputs": [
        {
          "output_type": "stream",
          "name": "stdout",
          "text": [
            "              precision    recall  f1-score   support\n",
            "\n",
            "           e       1.00      1.00      1.00       655\n",
            "           p       1.00      1.00      1.00       564\n",
            "\n",
            "    accuracy                           1.00      1219\n",
            "   macro avg       1.00      1.00      1.00      1219\n",
            "weighted avg       1.00      1.00      1.00      1219\n",
            "\n"
          ]
        }
      ]
    },
    {
      "cell_type": "code",
      "source": [
        "plot_confusion_matrix(GSCV, y_test, y_pred)"
      ],
      "metadata": {
        "colab": {
          "base_uri": "https://localhost:8080/",
          "height": 296
        },
        "id": "CdfTIkMpBAr2",
        "outputId": "8522b418-ab1b-4817-9074-b286751653f5"
      },
      "execution_count": 24,
      "outputs": [
        {
          "output_type": "display_data",
          "data": {
            "text/plain": [
              "<Figure size 1200x1200 with 0 Axes>"
            ]
          },
          "metadata": {}
        },
        {
          "output_type": "display_data",
          "data": {
            "text/plain": [
              "<Figure size 432x288 with 2 Axes>"
            ],
            "image/png": "[encoded data removed]"
          },
          "metadata": {
            "needs_background": "light"
          }
        }
      ]
    },
    {
      "cell_type": "code",
      "source": [
        "GSCV.best_estimator_.feature_importances_"
      ],
      "metadata": {
        "colab": {
          "base_uri": "https://localhost:8080/"
        },
        "id": "QdY7EpESBU0e",
        "outputId": "af4b10f8-9c37-42cf-94c9-c60e2da0c27f"
      },
      "execution_count": 25,
      "outputs": [
        {
          "output_type": "execute_result",
          "data": {
            "text/plain": [
              "array([2.91150176e-04, 4.40008600e-17, 0.00000000e+00, 0.00000000e+00,\n",
              "       1.11912577e-16, 1.04902579e-03, 0.00000000e+00, 1.27734798e-06,\n",
              "       0.00000000e+00, 1.71111951e-17, 0.00000000e+00, 0.00000000e+00,\n",
              "       6.16484059e-18, 0.00000000e+00, 0.00000000e+00, 1.01895536e-08,\n",
              "       2.31056241e-03, 5.15467547e-02, 6.24175887e-04, 2.09280914e-02,\n",
              "       1.82499853e-02, 4.14898956e-05, 6.14744334e-01, 8.63939501e-03,\n",
              "       0.00000000e+00, 0.00000000e+00, 0.00000000e+00, 1.25092906e-02,\n",
              "       1.04355233e-02, 0.00000000e+00, 3.61773593e-17, 4.40017052e-18,\n",
              "       3.39872261e-17, 0.00000000e+00, 0.00000000e+00, 0.00000000e+00,\n",
              "       7.20852137e-17, 0.00000000e+00, 0.00000000e+00, 0.00000000e+00,\n",
              "       2.92091629e-04, 2.03408198e-04, 1.35978778e-01, 0.00000000e+00,\n",
              "       2.18936437e-02, 3.60010033e-03, 1.49613350e-03, 4.95063766e-06,\n",
              "       0.00000000e+00, 2.54090956e-03, 4.42028091e-02, 2.19363548e-03,\n",
              "       0.00000000e+00, 0.00000000e+00, 4.59787330e-06, 0.00000000e+00,\n",
              "       0.00000000e+00, 1.35375924e-05, 0.00000000e+00, 1.77243051e-04,\n",
              "       0.00000000e+00, 0.00000000e+00, 5.33104127e-05, 0.00000000e+00,\n",
              "       0.00000000e+00, 2.53703491e-04, 3.10245386e-03, 0.00000000e+00,\n",
              "       1.10295205e-04, 0.00000000e+00, 4.73681003e-05, 9.15361008e-04,\n",
              "       7.08716926e-05, 1.76797782e-05, 4.02043348e-04, 1.87360896e-03,\n",
              "       4.53822549e-04, 2.14244389e-04, 2.08937473e-04, 0.00000000e+00,\n",
              "       3.04953583e-02, 4.10000880e-03, 1.30244338e-03, 0.00000000e+00,\n",
              "       1.17433125e-03, 0.00000000e+00, 7.50139757e-08, 4.27325722e-04,\n",
              "       7.93804171e-04, 2.42947828e-16, 0.00000000e+00, 2.67785066e-16,\n",
              "       0.00000000e+00, 1.00485103e-05, 0.00000000e+00])"
            ]
          },
          "metadata": {},
          "execution_count": 25
        }
      ]
    },
    {
      "cell_type": "code",
      "source": [
        "features = pd.DataFrame(index=X.columns,\n",
        "                        data=GSCV.best_estimator_.feature_importances_,\n",
        "                        columns=['Importance'])\n",
        "\n",
        "imp_feature = features[features['Importance']>0.001].sort_values('Importance')"
      ],
      "metadata": {
        "id": "Ho0gP3HhBaH2"
      },
      "execution_count": 33,
      "outputs": []
    },
    {
      "cell_type": "code",
      "source": [
        "plt.figure(figsize=(12, 6), dpi=100)\n",
        "sns.barplot(data=imp_feature, x=imp_feature.index, y='Importance')\n",
        "plt.xticks(rotation=90)\n",
        "plt.show()"
      ],
      "metadata": {
        "colab": {
          "base_uri": "https://localhost:8080/",
          "height": 684
        },
        "id": "G7UEHMfNBpoN",
        "outputId": "49375683-7a65-4fb7-82fd-cfeb203e3ccb"
      },
      "execution_count": 34,
      "outputs": [
        {
          "output_type": "display_data",
          "data": {
            "text/plain": [
              "<Figure size 1200x600 with 1 Axes>"
            ],
            "image/png": "[encoded data removed]"
          },
          "metadata": {
            "needs_background": "light"
          }
        }
      ]
    },
    {
      "cell_type": "markdown",
      "source": [
        "Using Gradient Boosting Classifier which is performing much better in comparison with AdaBoost. Hence correctly classifying between poisonous and edible mushrooms"
      ],
      "metadata": {
        "id": "KF1guc_PCoYT"
      }
    }
  ]
}