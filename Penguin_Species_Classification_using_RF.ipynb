{
  "nbformat": 4,
  "nbformat_minor": 0,
  "metadata": {
    "colab": {
      "provenance": [],
      "authorship_tag": "ABX9TyM/itIdx40Zfzx4+j6kjUep",
      "include_colab_link": true
    },
    "kernelspec": {
      "name": "python3",
      "display_name": "Python 3"
    },
    "language_info": {
      "name": "python"
    }
  },
  "cells": [
    {
      "cell_type": "markdown",
      "metadata": {
        "id": "view-in-github",
        "colab_type": "text"
      },
      "source": [
        "<a href=\"https://colab.research.google.com/github/MoizAhmed2517/Classification_projects/blob/main/Penguin_Species_Classification_using_RF.ipynb\" target=\"_parent\"><img src=\"https://colab.research.google.com/assets/colab-badge.svg\" alt=\"Open In Colab\"/></a>"
      ]
    },
    {
      "cell_type": "markdown",
      "source": [
        "# Penguin Species Prediction Using Random Forest"
      ],
      "metadata": {
        "id": "5ddJDKytvgb9"
      }
    },
    {
      "cell_type": "code",
      "execution_count": 2,
      "metadata": {
        "colab": {
          "base_uri": "https://localhost:8080/",
          "height": 487
        },
        "id": "MxU7BqQ3vIF_",
        "outputId": "93014c8b-24f9-4480-da2a-07752754c902"
      },
      "outputs": [
        {
          "output_type": "stream",
          "name": "stdout",
          "text": [
            "              precision    recall  f1-score   support\n",
            "\n",
            "      Adelie       0.93      1.00      0.96        39\n",
            "   Chinstrap       1.00      0.89      0.94        27\n",
            "      Gentoo       1.00      1.00      1.00        37\n",
            "\n",
            "    accuracy                           0.97       103\n",
            "   macro avg       0.98      0.96      0.97       103\n",
            "weighted avg       0.97      0.97      0.97       103\n",
            "\n",
            "[3.72822259e-01 1.03207146e-01 2.56225040e-01 1.71716696e-01\n",
            " 8.61431032e-02 9.57002121e-03 3.15734217e-04]\n"
          ]
        },
        {
          "output_type": "display_data",
          "data": {
            "text/plain": [
              "<Figure size 432x288 with 2 Axes>"
            ],
            "image/png": "[encoded data removed]"
          },
          "metadata": {
            "needs_background": "light"
          }
        }
      ],
      "source": [
        "import numpy as np\n",
        "import pandas as pd\n",
        "import seaborn as sns\n",
        "import matplotlib.pyplot as plt\n",
        "from sklearn.model_selection import train_test_split, GridSearchCV\n",
        "from sklearn.ensemble import RandomForestClassifier\n",
        "from sklearn.metrics import classification_report, accuracy_score, ConfusionMatrixDisplay, confusion_matrix\n",
        "\n",
        "df = pd.read_csv('penguins_size_clean_data.csv')\n",
        "\n",
        "X = pd.get_dummies(df.drop('species', axis=1), drop_first=True)\n",
        "y = df['species']\n",
        "\n",
        "X_train, X_test, y_train, y_test = train_test_split(X, y, random_state=101, test_size=0.3)\n",
        "\n",
        "RFC_1 = RandomForestClassifier(n_estimators=10, max_features='sqrt', criterion='gini', bootstrap=True, random_state=101)\n",
        "RFC_1.fit(X_train, y_train)\n",
        "y_preds = RFC_1.predict(X_test)\n",
        "\n",
        "print(classification_report(y_test, y_preds))\n",
        "cm = confusion_matrix(y_test, y_preds, labels=RFC_1.classes_)\n",
        "disp = ConfusionMatrixDisplay(cm, display_labels=RFC_1.classes_)\n",
        "print(RFC_1.feature_importances_)\n",
        "disp.plot()\n",
        "plt.show()"
      ]
    }
  ]
}